{
 "cells": [
  {
   "cell_type": "code",
   "execution_count": 1,
   "id": "e20f2a6d",
   "metadata": {},
   "outputs": [],
   "source": [
    "import pandas as pd\n",
    "import pickle as pkl"
   ]
  },
  {
   "cell_type": "code",
   "execution_count": 4,
   "id": "4c017c41",
   "metadata": {},
   "outputs": [],
   "source": [
    "with open(\"/Users/zwanran/Desktop/STAT27420/Final/STAT27420-final-code/Data/data/comprehensive_new_full.pkl\", \"rb\") as f:\n",
    "    object = pkl.load(f)\n",
    "    \n",
    "df = pd.DataFrame(object)\n",
    "df.to_csv(r'/Users/zwanran/Desktop/STAT27420/Final/STAT27420-final-code/Data/data/comprehensive_new_full.csv')\n",
    "df.to_stata(r'/Users/zwanran/Desktop/STAT27420/Final/STAT27420-final-code/Data/data/comprehensive_new_full.dta')"
   ]
  },
  {
   "cell_type": "code",
   "execution_count": 4,
   "id": "e3a4083f",
   "metadata": {},
   "outputs": [],
   "source": [
    "with open(\"/Users/zwanran/Desktop/STAT27420/Final/STAT27420-final-code/Data/data/aspo_full.pkl\", \"rb\") as f:\n",
    "    object = pkl.load(f)\n",
    "    \n",
    "df = pd.DataFrame(object)\n",
    "df.drop(df.columns[[118,119]],axis = 1,inplace = True)\n",
    "df.to_csv(r'/Users/zwanran/Desktop/STAT27420/Final/STAT27420-final-code/Data/data/aspo_full.csv')\n",
    "df.to_stata(r'/Users/zwanran/Desktop/STAT27420/Final/STAT27420-final-code/Data/data/aspo_full.dta')"
   ]
  },
  {
   "cell_type": "code",
   "execution_count": 3,
   "id": "39311aca",
   "metadata": {},
   "outputs": [
    {
     "data": {
      "text/plain": [
       "Index(['valoilres_impute_diff', 'valoilres_impute_binarize'], dtype='object')"
      ]
     },
     "execution_count": 3,
     "metadata": {},
     "output_type": "execute_result"
    }
   ],
   "source": [
    "with open(\"/Users/zwanran/Desktop/STAT27420/Final/STAT27420-final-code/Data/data/aspo_full.pkl\", \"rb\") as f:\n",
    "    object = pkl.load(f)\n",
    "    \n",
    "df = pd.DataFrame(object)\n",
    "df.columns[[118,119]]"
   ]
  }
 ],
 "metadata": {
  "kernelspec": {
   "display_name": "Python 3 (ipykernel)",
   "language": "python",
   "name": "python3"
  },
  "language_info": {
   "codemirror_mode": {
    "name": "ipython",
    "version": 3
   },
   "file_extension": ".py",
   "mimetype": "text/x-python",
   "name": "python",
   "nbconvert_exporter": "python",
   "pygments_lexer": "ipython3",
   "version": "3.9.7"
  }
 },
 "nbformat": 4,
 "nbformat_minor": 5
}
